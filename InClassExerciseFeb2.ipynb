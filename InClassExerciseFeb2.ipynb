{
 "cells": [
  {
   "cell_type": "code",
   "execution_count": null,
   "id": "efe443a0-efd7-44d2-bcf4-1399906a0f18",
   "metadata": {},
   "outputs": [],
   "source": [
    "## Exploring the joins\n",
    "import pandas as pd\n",
    "data1 = {\n",
    "    'StudentID':[1,2,3,4],\n",
    "    'Name':['Alice','Bob','Charlie','David']\n",
    "}\n",
    "df1 = pd.DataFrame(data1)\n",
    "\n",
    "data2 = {\n",
    "    'StudentID': [3,4,5,5],\n",
    "    'Grade':['A','B','C','D']\n",
    "}\n",
    "df2 = pd.DataFrame(data2)\n",
    "inner_join_df = pd.merge(df1, df2, on='StudentID', how='inner')\n",
    "print(inner_join_df)\n",
    "\n",
    "outer_join_df = pd.merge(df1,df2, on = 'StudentID', how = 'outer')\n",
    "print(outer_join_df)\n",
    "left_join_df = pd.merge(df1, df2, on='StudentID', how='left')\n",
    "print(left_join_df)\n",
    "right_join_df = pd.merge(df1, df2, on='StudentID', how='right')\n",
    "print(right_join_df)\n"
   ]
  },
  {
   "cell_type": "markdown",
   "id": "bddef572-0ca9-4e34-a53a-0bc747398491",
   "metadata": {},
   "source": [
    "data = {\n",
    "    'Salesperson': ['Alice', 'Bob', 'Charlie', 'Alice', 'Bob', 'Charlie'],\n",
    "    'Product': ['Widget', 'Widget', 'Gadget', 'Gadget', 'Widget', 'Gadget'],\n",
    "'Quantity': [4, 2, 3, 5, 6, 1]}\n",
    "# Creating the DataFrame\n",
    "df = pd.DataFrame(data)\n",
    "\n",
    "# Group by 'Salesperson' and calculate total 'Quantity'\n",
    "total_quantity_by_salesperson = df.groupby('Salesperson')['Quantity'].sum()\n",
    "\n",
    "# Group by 'Product' and calculate average 'Quantity'\n",
    "average_quantity_by_product = df.groupby('Product')['Quantity'].mean()\n",
    "\n",
    "total_quantity_by_salesperson, average_quantity_by_product"
   ]
  },
  {
   "cell_type": "markdown",
   "id": "91eceaec-8f16-4469-9de4-2b57c84309b5",
   "metadata": {},
   "source": [
    "## Exploring the Group by function"
   ]
  }
 ],
 "metadata": {
  "kernelspec": {
   "display_name": "Python 3 (ipykernel)",
   "language": "python",
   "name": "python3"
  },
  "language_info": {
   "codemirror_mode": {
    "name": "ipython",
    "version": 3
   },
   "file_extension": ".py",
   "mimetype": "text/x-python",
   "name": "python",
   "nbconvert_exporter": "python",
   "pygments_lexer": "ipython3",
   "version": "3.11.5"
  }
 },
 "nbformat": 4,
 "nbformat_minor": 5
}
