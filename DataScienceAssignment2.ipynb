{
  "nbformat": 4,
  "nbformat_minor": 0,
  "metadata": {
    "colab": {
      "provenance": [],
      "toc_visible": true
    },
    "kernelspec": {
      "name": "python3",
      "display_name": "Python 3"
    },
    "language_info": {
      "name": "python"
    }
  },
  "cells": [
    {
      "cell_type": "markdown",
      "source": [
        "**Data Preparations**:\n",
        "Download the dataset titanic.xls in your local computer and load it into a DataFrame named titanic_df. Display the first 10 rows of dataset to understand the data structure."
      ],
      "metadata": {
        "id": "G-HVQhmnhT-q"
      }
    },
    {
      "cell_type": "code",
      "execution_count": null,
      "metadata": {
        "colab": {
          "base_uri": "https://localhost:8080/"
        },
        "id": "zEvsITymgxC4",
        "outputId": "ce9fc727-ae5a-46e9-f61c-0e910e2e822a"
      },
      "outputs": [
        {
          "output_type": "stream",
          "name": "stdout",
          "text": [
            "   pclass  survived                                             name     sex  \\\n",
            "0       1         1                    Allen, Miss. Elisabeth Walton  female   \n",
            "1       1         1                   Allison, Master. Hudson Trevor    male   \n",
            "2       1         0                     Allison, Miss. Helen Loraine  female   \n",
            "3       1         0             Allison, Mr. Hudson Joshua Creighton    male   \n",
            "4       1         0  Allison, Mrs. Hudson J C (Bessie Waldo Daniels)  female   \n",
            "5       1         1                              Anderson, Mr. Harry    male   \n",
            "6       1         1                Andrews, Miss. Kornelia Theodosia  female   \n",
            "7       1         0                           Andrews, Mr. Thomas Jr    male   \n",
            "8       1         1    Appleton, Mrs. Edward Dale (Charlotte Lamson)  female   \n",
            "9       1         0                          Artagaveytia, Mr. Ramon    male   \n",
            "\n",
            "       age  sibsp  parch    ticket      fare    cabin embarked boat   body  \\\n",
            "0  29.0000      0      0     24160  211.3375       B5        S    2    NaN   \n",
            "1   0.9167      1      2    113781  151.5500  C22 C26        S   11    NaN   \n",
            "2   2.0000      1      2    113781  151.5500  C22 C26        S  NaN    NaN   \n",
            "3  30.0000      1      2    113781  151.5500  C22 C26        S  NaN  135.0   \n",
            "4  25.0000      1      2    113781  151.5500  C22 C26        S  NaN    NaN   \n",
            "5  48.0000      0      0     19952   26.5500      E12        S    3    NaN   \n",
            "6  63.0000      1      0     13502   77.9583       D7        S   10    NaN   \n",
            "7  39.0000      0      0    112050    0.0000      A36        S  NaN    NaN   \n",
            "8  53.0000      2      0     11769   51.4792     C101        S    D    NaN   \n",
            "9  71.0000      0      0  PC 17609   49.5042      NaN        C  NaN   22.0   \n",
            "\n",
            "                         home.dest  \n",
            "0                     St Louis, MO  \n",
            "1  Montreal, PQ / Chesterville, ON  \n",
            "2  Montreal, PQ / Chesterville, ON  \n",
            "3  Montreal, PQ / Chesterville, ON  \n",
            "4  Montreal, PQ / Chesterville, ON  \n",
            "5                     New York, NY  \n",
            "6                       Hudson, NY  \n",
            "7                      Belfast, NI  \n",
            "8              Bayside, Queens, NY  \n",
            "9              Montevideo, Uruguay  \n"
          ]
        }
      ],
      "source": [
        "import pandas as pd\n",
        "\n",
        "# Load the dataset into a Pandas DataFrame\n",
        "titanic_df = pd.read_excel('/content/sample_data/titanic (1).xls')\n",
        "\n",
        "# Display the first 10 rows of the dataset\n",
        "print(titanic_df.head(10))\n"
      ]
    },
    {
      "cell_type": "markdown",
      "source": [
        "Create two DataFrames from titanic_df: one containing PassengerId, Name, and Pclass, and the other containing PassengerId, Survived, and Age.\n",
        "\n",
        "Task: Perform an inner join on these two DataFrames using PassengerId as the key."
      ],
      "metadata": {
        "id": "Bf1R_u9ChTMd"
      }
    },
    {
      "cell_type": "code",
      "source": [
        "titanic_df['PassengerID'] = titanic_df.reset_index().index\n",
        "print(titanic_df.head(10))\n"
      ],
      "metadata": {
        "colab": {
          "base_uri": "https://localhost:8080/"
        },
        "id": "VJav82JtijXS",
        "outputId": "73ba2b07-d6d9-4a95-a5bb-fd1e1ad2daa1"
      },
      "execution_count": null,
      "outputs": [
        {
          "output_type": "stream",
          "name": "stdout",
          "text": [
            "   pclass  survived                                             name     sex  \\\n",
            "0       1         1                    Allen, Miss. Elisabeth Walton  female   \n",
            "1       1         1                   Allison, Master. Hudson Trevor    male   \n",
            "2       1         0                     Allison, Miss. Helen Loraine  female   \n",
            "3       1         0             Allison, Mr. Hudson Joshua Creighton    male   \n",
            "4       1         0  Allison, Mrs. Hudson J C (Bessie Waldo Daniels)  female   \n",
            "5       1         1                              Anderson, Mr. Harry    male   \n",
            "6       1         1                Andrews, Miss. Kornelia Theodosia  female   \n",
            "7       1         0                           Andrews, Mr. Thomas Jr    male   \n",
            "8       1         1    Appleton, Mrs. Edward Dale (Charlotte Lamson)  female   \n",
            "9       1         0                          Artagaveytia, Mr. Ramon    male   \n",
            "\n",
            "       age  sibsp  parch    ticket      fare    cabin embarked boat   body  \\\n",
            "0  29.0000      0      0     24160  211.3375       B5        S    2    NaN   \n",
            "1   0.9167      1      2    113781  151.5500  C22 C26        S   11    NaN   \n",
            "2   2.0000      1      2    113781  151.5500  C22 C26        S  NaN    NaN   \n",
            "3  30.0000      1      2    113781  151.5500  C22 C26        S  NaN  135.0   \n",
            "4  25.0000      1      2    113781  151.5500  C22 C26        S  NaN    NaN   \n",
            "5  48.0000      0      0     19952   26.5500      E12        S    3    NaN   \n",
            "6  63.0000      1      0     13502   77.9583       D7        S   10    NaN   \n",
            "7  39.0000      0      0    112050    0.0000      A36        S  NaN    NaN   \n",
            "8  53.0000      2      0     11769   51.4792     C101        S    D    NaN   \n",
            "9  71.0000      0      0  PC 17609   49.5042      NaN        C  NaN   22.0   \n",
            "\n",
            "                         home.dest  passengerID  PassengerID  \n",
            "0                     St Louis, MO            0            0  \n",
            "1  Montreal, PQ / Chesterville, ON            1            1  \n",
            "2  Montreal, PQ / Chesterville, ON            2            2  \n",
            "3  Montreal, PQ / Chesterville, ON            3            3  \n",
            "4  Montreal, PQ / Chesterville, ON            4            4  \n",
            "5                     New York, NY            5            5  \n",
            "6                       Hudson, NY            6            6  \n",
            "7                      Belfast, NI            7            7  \n",
            "8              Bayside, Queens, NY            8            8  \n",
            "9              Montevideo, Uruguay            9            9  \n"
          ]
        }
      ]
    },
    {
      "cell_type": "code",
      "source": [
        "\n",
        "# Create the first DataFrame containing PassengerId, Name, and Pclass\n",
        "df1 = titanic_df[['PassengerID', 'name', 'pclass']]\n",
        "\n",
        "# Create the second DataFrame containing PassengerId, Survived, and Age\n",
        "df2 = titanic_df[['PassengerID', 'survived', 'age']]\n",
        "\n",
        "# Perform an inner join on the two DataFrames using PassengerId as the key\n",
        "merged_df = pd.merge(df1, df2, on='PassengerID', how='inner')\n",
        "\n",
        "# Display the first few rows of the merged DataFrame to verify\n",
        "print(merged_df)"
      ],
      "metadata": {
        "colab": {
          "base_uri": "https://localhost:8080/"
        },
        "id": "PwKvqCRahSCX",
        "outputId": "80e7e867-3642-4bf8-c1f0-1d0e3d0b1762"
      },
      "execution_count": null,
      "outputs": [
        {
          "output_type": "stream",
          "name": "stdout",
          "text": [
            "      PassengerID                                             name  pclass  \\\n",
            "0               0                    Allen, Miss. Elisabeth Walton       1   \n",
            "1               1                   Allison, Master. Hudson Trevor       1   \n",
            "2               2                     Allison, Miss. Helen Loraine       1   \n",
            "3               3             Allison, Mr. Hudson Joshua Creighton       1   \n",
            "4               4  Allison, Mrs. Hudson J C (Bessie Waldo Daniels)       1   \n",
            "...           ...                                              ...     ...   \n",
            "1304         1304                             Zabour, Miss. Hileni       3   \n",
            "1305         1305                            Zabour, Miss. Thamine       3   \n",
            "1306         1306                        Zakarian, Mr. Mapriededer       3   \n",
            "1307         1307                              Zakarian, Mr. Ortin       3   \n",
            "1308         1308                               Zimmerman, Mr. Leo       3   \n",
            "\n",
            "      survived      age  \n",
            "0            1  29.0000  \n",
            "1            1   0.9167  \n",
            "2            0   2.0000  \n",
            "3            0  30.0000  \n",
            "4            0  25.0000  \n",
            "...        ...      ...  \n",
            "1304         0  14.5000  \n",
            "1305         0      NaN  \n",
            "1306         0  26.5000  \n",
            "1307         0  27.0000  \n",
            "1308         0  29.0000  \n",
            "\n",
            "[1309 rows x 5 columns]\n"
          ]
        }
      ]
    },
    {
      "cell_type": "markdown",
      "source": [
        "Outer Join: (20 points)\n",
        "Perform an outer join on the previous two DataFrames."
      ],
      "metadata": {
        "id": "sPwkdVOhj8CN"
      }
    },
    {
      "cell_type": "code",
      "source": [
        "merged_df_outer = pd.merge(df1, df2, on='PassengerID', how='outer')\n",
        "\n",
        "# Display the first few rows of the merged DataFrame to verify the join\n",
        "print(merged_df_outer)"
      ],
      "metadata": {
        "colab": {
          "base_uri": "https://localhost:8080/"
        },
        "id": "fUrN2Xd9j9Xh",
        "outputId": "1b6ebced-ed6e-41a7-e326-e44ae2759ad5"
      },
      "execution_count": null,
      "outputs": [
        {
          "output_type": "stream",
          "name": "stdout",
          "text": [
            "      PassengerID                                             name  pclass  \\\n",
            "0               0                    Allen, Miss. Elisabeth Walton       1   \n",
            "1               1                   Allison, Master. Hudson Trevor       1   \n",
            "2               2                     Allison, Miss. Helen Loraine       1   \n",
            "3               3             Allison, Mr. Hudson Joshua Creighton       1   \n",
            "4               4  Allison, Mrs. Hudson J C (Bessie Waldo Daniels)       1   \n",
            "...           ...                                              ...     ...   \n",
            "1304         1304                             Zabour, Miss. Hileni       3   \n",
            "1305         1305                            Zabour, Miss. Thamine       3   \n",
            "1306         1306                        Zakarian, Mr. Mapriededer       3   \n",
            "1307         1307                              Zakarian, Mr. Ortin       3   \n",
            "1308         1308                               Zimmerman, Mr. Leo       3   \n",
            "\n",
            "      survived      age  \n",
            "0            1  29.0000  \n",
            "1            1   0.9167  \n",
            "2            0   2.0000  \n",
            "3            0  30.0000  \n",
            "4            0  25.0000  \n",
            "...        ...      ...  \n",
            "1304         0  14.5000  \n",
            "1305         0      NaN  \n",
            "1306         0  26.5000  \n",
            "1307         0  27.0000  \n",
            "1308         0  29.0000  \n",
            "\n",
            "[1309 rows x 5 columns]\n"
          ]
        }
      ]
    },
    {
      "cell_type": "markdown",
      "source": [
        "Discuss the differences in the results compared to the inner join.\n",
        "There is no difference between inner join and outer join."
      ],
      "metadata": {
        "id": "xropGzJ0tMiU"
      }
    },
    {
      "cell_type": "markdown",
      "source": [
        "**GroupBy Exercise:**\n",
        "Use the original titanic_df.\n",
        "\n",
        "Task 1: Group by Pclass and calculate the average Fare and Age for each class.\n",
        "Task 2: Group by Embarked and Sex, and find the count of passengers for each combination."
      ],
      "metadata": {
        "id": "4CAn5Aw8mS2T"
      }
    },
    {
      "cell_type": "code",
      "source": [
        "# Task 1\n",
        "grouped_by_pclass = titanic_df.groupby('pclass').agg({'fare': 'mean', 'age': 'mean'})\n",
        "\n",
        "# Display the result\n",
        "print(\"Average Fare and Age by Pclass:\")\n",
        "print(grouped_by_pclass)\n"
      ],
      "metadata": {
        "colab": {
          "base_uri": "https://localhost:8080/"
        },
        "id": "xiq2_qY7l4Wm",
        "outputId": "4373fe0d-66db-4b7d-a398-46afd3ad972a"
      },
      "execution_count": null,
      "outputs": [
        {
          "output_type": "stream",
          "name": "stdout",
          "text": [
            "Average Fare and Age by Pclass:\n",
            "             fare        age\n",
            "pclass                      \n",
            "1       87.508992  39.159918\n",
            "2       21.179196  29.506705\n",
            "3       13.302889  24.816367\n"
          ]
        }
      ]
    },
    {
      "cell_type": "code",
      "source": [
        "# Task 2\n",
        "grouped_by_embarked_sex = titanic_df.groupby(['embarked', 'sex']).size().reset_index(name='Count')\n",
        "\n",
        "# Display the result\n",
        "print(\"Count of Passengers by Embarked and Sex:\")\n",
        "print(grouped_by_embarked_sex)\n"
      ],
      "metadata": {
        "colab": {
          "base_uri": "https://localhost:8080/"
        },
        "id": "2KQDzoypnHzz",
        "outputId": "bf4f0f11-7822-4740-e7b5-976de9ad14b9"
      },
      "execution_count": null,
      "outputs": [
        {
          "output_type": "stream",
          "name": "stdout",
          "text": [
            "Count of Passengers by Embarked and Sex:\n",
            "  embarked     sex  Count\n",
            "0        C  female    113\n",
            "1        C    male    157\n",
            "2        Q  female     60\n",
            "3        Q    male     63\n",
            "4        S  female    291\n",
            "5        S    male    623\n"
          ]
        }
      ]
    },
    {
      "cell_type": "markdown",
      "source": [
        "**Explore More**:\n",
        "Task 1. Use the groupby method to calculate the proportion of passengers that survived by sex.\n",
        "Task 2. Create age categories: children (under 14 years), adolescents (14-20), adult (21-64), and senior(65+), and calculate survival proportions by age category, pclass and sex."
      ],
      "metadata": {
        "id": "uyoScEO4oDP8"
      }
    },
    {
      "cell_type": "code",
      "source": [
        "# Task 1\n",
        "survival_by_sex = titanic_df.groupby('sex')['survived'].mean()\n",
        "\n",
        "# Display the result\n",
        "print(\"Survival Proportion by Sex:\")\n",
        "print(survival_by_sex)\n"
      ],
      "metadata": {
        "colab": {
          "base_uri": "https://localhost:8080/"
        },
        "id": "Mc1qyoXdnRVF",
        "outputId": "fb4636ac-7ecf-4650-a25f-830ef8bdaf55"
      },
      "execution_count": null,
      "outputs": [
        {
          "output_type": "stream",
          "name": "stdout",
          "text": [
            "Survival Proportion by Sex:\n",
            "sex\n",
            "female    0.727468\n",
            "male      0.190985\n",
            "Name: survived, dtype: float64\n"
          ]
        }
      ]
    },
    {
      "cell_type": "code",
      "source": [
        "import numpy as np\n",
        "\n",
        "# Define a function to categorize age\n",
        "def categorize_age(age):\n",
        "    if pd.isnull(age):\n",
        "        return 'Unknown'  # Optional: handle missing values\n",
        "    elif age < 14:\n",
        "        return 'Children'\n",
        "    elif 14 <= age <= 20:\n",
        "        return 'Adolescents'\n",
        "    elif 21 <= age <= 64:\n",
        "        return 'Adult'\n",
        "    else:\n",
        "        return 'Senior'\n",
        "\n",
        "# Create a new column 'AgeCategory' using the defined function\n",
        "titanic_df['AgeCategory'] = titanic_df['age'].apply(categorize_age)\n",
        "\n",
        "# Group by 'AgeCategory', 'Pclass', and 'Sex', and calculate survival proportions\n",
        "survival_by_age_pclass_sex = titanic_df.groupby(['AgeCategory', 'pclass', 'sex'])['survived'].mean().unstack()\n",
        "\n",
        "# Display the result\n",
        "print(\"Survival Proportions by Age Category, Pclass, and Sex:\")\n",
        "print(survival_by_age_pclass_sex)\n"
      ],
      "metadata": {
        "colab": {
          "base_uri": "https://localhost:8080/"
        },
        "id": "GN7ICy7zofmu",
        "outputId": "42a7a126-fa5a-4b82-a975-e0ac734a117b"
      },
      "execution_count": null,
      "outputs": [
        {
          "output_type": "stream",
          "name": "stdout",
          "text": [
            "Survival Proportions by Age Category, Pclass, and Sex:\n",
            "sex                   female      male\n",
            "AgeCategory pclass                    \n",
            "Adolescents 1       1.000000  0.200000\n",
            "            2       0.923077  0.117647\n",
            "            3       0.542857  0.125000\n",
            "Adult       1       0.965517  0.343284\n",
            "            2       0.868421  0.078125\n",
            "            3       0.441860  0.159836\n",
            "Children    1       0.000000  1.000000\n",
            "            2       1.000000  1.000000\n",
            "            3       0.483871  0.324324\n",
            "Senior      1       1.000000  0.142857\n",
            "            2            NaN  0.000000\n",
            "            3            NaN  0.000000\n",
            "Unknown     1       1.000000  0.285714\n",
            "            2       0.666667  0.153846\n",
            "            3       0.531250  0.111111\n"
          ]
        }
      ]
    },
    {
      "cell_type": "markdown",
      "source": [
        "**Analysis**:\n",
        "**Gender Disparity**: Women generally had higher survival rates across all age categories and classes compared to men, highlighting the gender disparity in survival likelihood. For instance, adult women in 1st class had a survival rate of approximately 96.55%, while their male counterparts had a rate of 34.33%. This trend persists across all classes and age groups, underlining the \"women and children first\" policy during the evacuation.\n",
        "\n",
        "**Class Influence**: The class appears to significantly impact survival rates, with higher classes showing markedly higher survival rates. Notably, adolescents and adults in the 1st class exhibit the highest survival rates among their respective age groups, emphasizing the advantage of being in a higher socio-economic class during the disaster.\n",
        "\n",
        "**Children's Survival Rates**: The survival rates for children varied significantly across classes. Children in the 2nd class had a survival rate of 100% for both females and males, which is the highest survival rate observed in the dataset. However, children in the 3rd class had lower survival rates, with 48.39% for females and 32.43% for males, suggesting that class disparities also affected the youngest passengers.\n",
        "\n",
        "**Senior Passengers**: Senior passengers had very low representation, making their survival rates less statistically robust. However, it is noteworthy that senior females in the 1st class had a survival rate of 100%, whereas senior males had much lower rates across all classes.\n",
        "\n",
        "**Adolescents**: Adolescent females in the 1st and 2nd classes had high survival rates (100% and 92.31%, respectively), far exceeding those of their male counterparts. This further illustrates the advantage of being female and in a higher class.\n",
        "\n",
        "**Unknown Age Group**: The survival rates for passengers whose age was unknown also reflected the general trend of higher survival rates for females. However, due to the uncertainty about the age distribution within this group, drawing specific conclusions is challenging.\n",
        "\n",
        "**Conclusion**:\n",
        "The analysis underscores the significant influence of gender and class on survival rates aboard the Titanic. Women and children, particularly those in higher classes, had markedly higher survival rates, reflecting the prioritization of their evacuation. Class disparities were evident across all age groups, with 1st and 2nd-class passengers enjoying considerably higher chances of survival than those in the 3rd class. While the dataset provides valuable insights into the tragic event, it also highlights the socio-economic inequalities that played a role in survival outcomes."
      ],
      "metadata": {
        "id": "5P9BwEGrsKxP"
      }
    }
  ]
}