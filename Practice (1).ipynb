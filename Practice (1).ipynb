{
  "nbformat": 4,
  "nbformat_minor": 0,
  "metadata": {
    "colab": {
      "provenance": []
    },
    "kernelspec": {
      "name": "python3",
      "display_name": "Python 3"
    },
    "language_info": {
      "name": "python"
    }
  },
  "cells": [
    {
      "cell_type": "code",
      "execution_count": 1,
      "metadata": {
        "colab": {
          "base_uri": "https://localhost:8080/"
        },
        "id": "tNGKGiM1BAfv",
        "outputId": "79f9a7c5-6fd4-4eb5-afb9-2b091a0e91d8"
      },
      "outputs": [
        {
          "output_type": "stream",
          "name": "stdout",
          "text": [
            "[32, 16, 47, 41, 47, 12, 41, 2, 45, 16, 9, 29, 5, 39, 41, 18, 21, 27, 44, 37]\n",
            "28.45\n",
            "28.45\n",
            "41\n",
            "212.4475\n",
            "14.575578890733636\n"
          ]
        }
      ],
      "source": [
        "import numpy as np\n",
        "import pandas as pd\n",
        "from statistics import mode\n",
        "import random\n",
        "\n",
        "\n",
        "random_numbers = [random.randint(1, 50) for _ in range(20)]\n",
        "print(random_numbers)\n",
        "\n",
        "mean_val = np.mean(random_numbers)\n",
        "median_val = np.mean(random_numbers)\n",
        "\n",
        "get_mode = lambda x: mode(x)\n",
        "mode_value = get_mode(random_numbers)\n",
        "\n",
        "variance = np.var(random_numbers)\n",
        "std_deviation = np.std(random_numbers)\n",
        "print(mean_val)\n",
        "print(median_val)\n",
        "print(mode_value)\n",
        "print(variance)\n",
        "print(std_deviation)\n"
      ]
    },
    {
      "cell_type": "code",
      "source": [
        "mean_age = df['age'].mean()\n",
        "df['age'].fillna(mean_age, inplace = True)\n"
      ],
      "metadata": {
        "id": "K4Asges3KVWf"
      },
      "execution_count": null,
      "outputs": []
    },
    {
      "cell_type": "code",
      "source": [
        "median_income = df['income'].median()\n",
        "##percentiles_petal_length = iris['petal_length'].quantile([0.25, 0.5, 0.75])\n",
        "#print(\"25th percentile of 'petal_length':\", percentiles_petal_length[0.25])\n",
        "#print(\"50th percentile (median) of 'petal_length':\", percentiles_petal_length[0.5])\n",
        "#print(\"75th percentile of 'petal_length':\", percentiles_petal_length[0.75])\n",
        "#percentile_25 = np.percentile(unit_prices, 25)\n",
        "#percentile_50 = np.percentile(unit_prices, 50)\n",
        "#percentile_75 = np.percentile(unit_prices, 75)\n",
        "\n",
        "#print(\"25th Percentile:\", percentile_25)\n",
        "#print(\"50th Percentile:\", percentile_50)\n",
        "#print(\"75th Percentile:\", percentile_75)"
      ],
      "metadata": {
        "id": "I-tL51jVK398"
      },
      "execution_count": null,
      "outputs": []
    },
    {
      "cell_type": "code",
      "source": [
        "A = np.random.randint(1,11,size =(8,8))\n",
        "B = np.random.randint(1,11,size = (8,8))\n",
        "print(A)\n",
        "print(B)"
      ],
      "metadata": {
        "colab": {
          "base_uri": "https://localhost:8080/"
        },
        "id": "swMVzeotPaGo",
        "outputId": "cd26ae82-cd56-4039-e522-c228950a41fd"
      },
      "execution_count": 2,
      "outputs": [
        {
          "output_type": "stream",
          "name": "stdout",
          "text": [
            "[[ 4  7  1  3  3  8 10  5]\n",
            " [ 6  4  3  8  8  2  1 10]\n",
            " [10  3  9  4  6 10  7  2]\n",
            " [ 1 10  7  8  9  8  2  5]\n",
            " [ 8  7  4  2  9  8  2  1]\n",
            " [ 4  4  1  1  3  1  7  5]\n",
            " [ 5  8  6  4  8 10  2  6]\n",
            " [10  6  4 10  9  3  4  7]]\n",
            "[[ 7 10  4  4  3  8  7  6]\n",
            " [ 5  6 10  5  6  1 10  7]\n",
            " [ 3  8  6  7  5  5  9  1]\n",
            " [ 1  7  9  1  3  5  8  1]\n",
            " [ 5 10  4  1  2  4  3  3]\n",
            " [ 9 10  8  6  2  2  8  8]\n",
            " [ 3  1  2  7  4  5  6  4]\n",
            " [ 8  7 10  7 10  2  2  7]]\n"
          ]
        }
      ]
    },
    {
      "cell_type": "code",
      "source": [
        "AB = np.dot(A,B)\n",
        "print(AB)"
      ],
      "metadata": {
        "colab": {
          "base_uri": "https://localhost:8080/"
        },
        "id": "YPacTaBoQgIa",
        "outputId": "4bd590d3-714a-4c36-95f8-60925b544a5f"
      },
      "execution_count": 3,
      "outputs": [
        {
          "output_type": "stream",
          "name": "stdout",
          "text": [
            "[[226 266 265 217 180 147 274 225]\n",
            " [220 335 304 170 205 168 239 189]\n",
            " [273 399 298 251 185 231 357 234]\n",
            " [249 389 372 217 214 165 347 225]\n",
            " [236 347 258 175 144 165 283 209]\n",
            " [137 161 155 137 130 105 154 134]\n",
            " [281 398 348 230 209 172 329 250]\n",
            " [262 411 352 212 226 232 335 232]]\n"
          ]
        }
      ]
    },
    {
      "cell_type": "code",
      "source": [
        "AB_inv = np.linalg.inv(AB)\n",
        "print(AB_inv)"
      ],
      "metadata": {
        "colab": {
          "base_uri": "https://localhost:8080/"
        },
        "id": "IgJbaPYVQo_b",
        "outputId": "ec6048e1-3cae-47c3-a619-37da2ece3f66"
      },
      "execution_count": 5,
      "outputs": [
        {
          "output_type": "stream",
          "name": "stdout",
          "text": [
            "[[-0.51645749 -1.55861031 -0.34020053 -0.8521381  -1.17726501  0.12078317\n",
            "   2.22385047  1.5345651 ]\n",
            " [ 0.18576332  0.63799741  0.14132461  0.35027043  0.49004572 -0.02810525\n",
            "  -0.89839286 -0.63928577]\n",
            " [ 0.07648036  0.11112188  0.02813931  0.03114964  0.03708802 -0.08176341\n",
            "  -0.12196356 -0.07804996]\n",
            " [ 0.22773963  0.66579769  0.16688163  0.34115824  0.45939306 -0.07809867\n",
            "  -0.90594891 -0.65495167]\n",
            " [-0.1706562  -0.37911766 -0.09563398 -0.16779319 -0.2449494   0.11644554\n",
            "   0.50035898  0.34777448]\n",
            " [ 0.03549692  0.03307961  0.01243451 -0.00611879  0.00306365 -0.04104576\n",
            "  -0.03946259 -0.00451003]\n",
            " [-0.20534791 -0.57837148 -0.13070529 -0.27399987 -0.39580566  0.0850314\n",
            "   0.76852032  0.54719653]\n",
            " [ 0.35726646  1.02429104  0.20809883  0.5480155   0.79237509 -0.08636161\n",
            "  -1.46464281 -1.00365434]]\n"
          ]
        }
      ]
    },
    {
      "cell_type": "code",
      "source": [
        "BA_inv = np.dot(np.linalg.inv(A),np.linalg.inv(B))\n",
        "print(BA_inv)"
      ],
      "metadata": {
        "colab": {
          "base_uri": "https://localhost:8080/"
        },
        "id": "GMYwQYOPRETF",
        "outputId": "9f553b87-01b0-4b6a-acfa-7433114f3ee8"
      },
      "execution_count": 6,
      "outputs": [
        {
          "output_type": "stream",
          "name": "stdout",
          "text": [
            "[[ 1.22902098e-02  6.79065404e-02 -5.77237563e-02 -7.26953829e-05\n",
            "   2.21917128e-02 -2.61578420e-02  3.69174986e-02 -3.76412339e-02]\n",
            " [-2.94925933e-02  6.67931426e-02 -9.26804915e-02  1.27345238e-02\n",
            "   6.56684511e-02 -1.78700936e-02  1.19119184e-01 -6.15424501e-02]\n",
            " [-2.80566986e-01 -1.00877426e-02 -1.40444748e-01  8.20238743e-02\n",
            "   3.18834539e-01  2.54995127e-02  3.03118027e-01 -6.95214925e-02]\n",
            " [-7.94077232e-02  4.59674089e-04 -2.89431023e-02 -5.13749580e-03\n",
            "   8.31007848e-02  2.37938198e-02  5.86666754e-02 -1.00222606e-02]\n",
            " [-6.51197075e-02 -7.29590404e-02  7.61382079e-02 -1.54130932e-02\n",
            "   7.01892507e-02 -1.02628635e-02 -2.14432537e-02  5.98523241e-02]\n",
            " [ 2.86501040e-01 -2.72419253e-03  1.43921611e-01 -5.81423336e-02\n",
            "  -3.63167916e-01  1.66037430e-03 -3.14689005e-01  6.40350724e-02]\n",
            " [ 7.82072088e-03 -6.82659617e-02  2.74316308e-02  1.87218822e-02\n",
            "  -3.98962057e-02  2.34785468e-02 -2.95046668e-02  4.22029044e-02]\n",
            " [ 7.19003750e-02  8.34131810e-03  2.53710452e-02 -4.03179040e-03\n",
            "  -7.65384286e-02 -1.51326186e-03 -6.31370898e-02 -6.13778854e-03]]\n"
          ]
        }
      ]
    },
    {
      "cell_type": "code",
      "source": [
        "are_equal = np.allclose(AB_inv, BA_inv)\n",
        "if(are_equal):\n",
        "    print(\"\\n(A * B)^-1 is equal to B^-1 * A^-1:\", are_equal)\n",
        "else:\n",
        "  print(\"not equal\")"
      ],
      "metadata": {
        "colab": {
          "base_uri": "https://localhost:8080/"
        },
        "id": "DW8L4NNKRcUd",
        "outputId": "603f3268-2878-4da4-f606-18f570276744"
      },
      "execution_count": 9,
      "outputs": [
        {
          "output_type": "stream",
          "name": "stdout",
          "text": [
            "not equal\n"
          ]
        }
      ]
    },
    {
      "cell_type": "code",
      "source": [],
      "metadata": {
        "id": "ydDAMZg8RcTL"
      },
      "execution_count": null,
      "outputs": []
    },
    {
      "cell_type": "code",
      "source": [],
      "metadata": {
        "id": "fpuzB-2HRcGK"
      },
      "execution_count": null,
      "outputs": []
    },
    {
      "cell_type": "code",
      "source": [],
      "metadata": {
        "id": "RfHBid4XRbcP"
      },
      "execution_count": null,
      "outputs": []
    }
  ]
}