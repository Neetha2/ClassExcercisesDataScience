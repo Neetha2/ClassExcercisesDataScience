{
 "cells": [
  {
   "cell_type": "markdown",
   "id": "3d1a9070",
   "metadata": {},
   "source": [
    "## Generating 1d array."
   ]
  },
  {
   "cell_type": "code",
   "execution_count": 2,
   "id": "492bc0aa",
   "metadata": {},
   "outputs": [
    {
     "name": "stdout",
     "output_type": "stream",
     "text": [
      "[89 69 28 53 42 19 39 14 24  7]\n"
     ]
    }
   ],
   "source": [
    "import numpy as np\n",
    "\n",
    "random_integers = np.random.randint(1,101, size=10)\n",
    "print(random_integers)"
   ]
  },
  {
   "cell_type": "markdown",
   "id": "a29ed1d6",
   "metadata": {},
   "source": [
    "### Acessing first and last elements in the array."
   ]
  },
  {
   "cell_type": "code",
   "execution_count": 3,
   "id": "26369873",
   "metadata": {},
   "outputs": [
    {
     "name": "stdout",
     "output_type": "stream",
     "text": [
      "89\n",
      "7\n"
     ]
    }
   ],
   "source": [
    "first_element = random_integers[0]\n",
    "last_element = random_integers[-1]\n",
    "print(first_element)\n",
    "print(last_element)"
   ]
  },
  {
   "cell_type": "markdown",
   "id": "b4dd5448",
   "metadata": {},
   "source": [
    "## Generating the 2d array"
   ]
  },
  {
   "cell_type": "code",
   "execution_count": 4,
   "id": "3faa75ba",
   "metadata": {},
   "outputs": [
    {
     "name": "stdout",
     "output_type": "stream",
     "text": [
      "[[0.45080111 0.05231764 0.64813671]\n",
      " [0.6517985  0.76878944 0.10660286]\n",
      " [0.41479318 0.37219299 0.97579048]]\n"
     ]
    }
   ],
   "source": [
    "random_floats_2d = np.random.rand(3, 3)\n",
    "print(random_floats_2d)"
   ]
  },
  {
   "cell_type": "markdown",
   "id": "a883b031",
   "metadata": {},
   "source": [
    "## Accessing the first row and last column"
   ]
  },
  {
   "cell_type": "code",
   "execution_count": 8,
   "id": "52c98d6d",
   "metadata": {},
   "outputs": [
    {
     "name": "stdout",
     "output_type": "stream",
     "text": [
      "[0.45080111 0.05231764 0.64813671]\n"
     ]
    }
   ],
   "source": [
    "first_row = random_floats_2d[0]\n",
    "print(first_row)"
   ]
  },
  {
   "cell_type": "code",
   "execution_count": 10,
   "id": "6f469bad",
   "metadata": {},
   "outputs": [
    {
     "name": "stdout",
     "output_type": "stream",
     "text": [
      "[0.64813671 0.10660286 0.97579048]\n"
     ]
    }
   ],
   "source": [
    "last_column = random_floats_2d[:, -1]\n",
    "print(last_column)"
   ]
  },
  {
   "cell_type": "markdown",
   "id": "07dbc95b",
   "metadata": {},
   "source": [
    "# Accessing the sub_array"
   ]
  },
  {
   "cell_type": "code",
   "execution_count": 11,
   "id": "5a40c906",
   "metadata": {},
   "outputs": [
    {
     "name": "stdout",
     "output_type": "stream",
     "text": [
      "[[0.45080111 0.05231764]\n",
      " [0.6517985  0.76878944]]\n"
     ]
    }
   ],
   "source": [
    "# Assuming random_floats_2d is your 2D array\n",
    "sub_array = random_floats_2d[:2, :2]\n",
    "print(sub_array)"
   ]
  },
  {
   "cell_type": "markdown",
   "id": "51acb5ca",
   "metadata": {},
   "source": [
    "## Doing the addition multiplication and square operations."
   ]
  },
  {
   "cell_type": "code",
   "execution_count": 12,
   "id": "0cfa8ce5",
   "metadata": {},
   "outputs": [
    {
     "name": "stdout",
     "output_type": "stream",
     "text": [
      "Added arrays: [118 145  95 108 111]\n",
      "Multiplied arrays (element-wise): [3445 4704 1836 2291 1598]\n",
      "Square of every element in the first array: [2809 2401 4624  841  289]\n"
     ]
    }
   ],
   "source": [
    "import numpy as np\n",
    "\n",
    "# Generate two 1D NumPy arrays of 5 random integers each\n",
    "array1 = np.random.randint(1, 101, size=5)\n",
    "array2 = np.random.randint(1, 101, size=5)\n",
    "\n",
    "# a. Add the two arrays and print the result\n",
    "added_arrays = array1 + array2\n",
    "print(\"Added arrays:\", added_arrays)\n",
    "\n",
    "# b. Multiply the two arrays (element-wise) and print the result\n",
    "multiplied_arrays = array1 * array2\n",
    "print(\"Multiplied arrays (element-wise):\", multiplied_arrays)\n",
    "\n",
    "# c. Calculate the square of every element in the first array and print it\n",
    "squared_array1 = array1 ** 2\n",
    "print(\"Square of every element in the first array:\", squared_array1)\n"
   ]
  },
  {
   "cell_type": "code",
   "execution_count": null,
   "id": "d79091b4",
   "metadata": {},
   "outputs": [],
   "source": []
  }
 ],
 "metadata": {
  "kernelspec": {
   "display_name": "Python 3 (ipykernel)",
   "language": "python",
   "name": "python3"
  },
  "language_info": {
   "codemirror_mode": {
    "name": "ipython",
    "version": 3
   },
   "file_extension": ".py",
   "mimetype": "text/x-python",
   "name": "python",
   "nbconvert_exporter": "python",
   "pygments_lexer": "ipython3",
   "version": "3.11.5"
  }
 },
 "nbformat": 4,
 "nbformat_minor": 5
}
