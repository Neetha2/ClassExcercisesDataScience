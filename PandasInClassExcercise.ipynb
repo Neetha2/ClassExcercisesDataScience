{
 "cells": [
  {
   "cell_type": "code",
   "execution_count": 2,
   "id": "d2bd566b",
   "metadata": {},
   "outputs": [
    {
     "name": "stdout",
     "output_type": "stream",
     "text": [
      "      Name  Age        City\n",
      "0    Alice   23    New York\n",
      "1      Bob   35  Los Angele\n",
      "2  Charlie   45     Chicago\n",
      "3    David   36     Houston\n",
      "4      Eva   28     Phoenix\n",
      "Name    Charlie\n",
      "Age          45\n",
      "City    Chicago\n",
      "Name: 2, dtype: object\n"
     ]
    }
   ],
   "source": [
    "import pandas as pd\n",
    "data ={'Name': ['Alice','Bob','Charlie','David','Eva'],\n",
    "      'Age':[23,35,45,36,28],\n",
    "      'City':['New York','Los Angele','Chicago','Houston','Phoenix']}\n",
    "df= pd.DataFrame(data)\n",
    "print(df)\n",
    "\n",
    "# Select the row with index 2\n",
    "row_index_2 = df.iloc[2]\n",
    "print(row_index_2)\n"
   ]
  },
  {
   "cell_type": "code",
   "execution_count": 3,
   "id": "c353a7ea",
   "metadata": {},
   "outputs": [
    {
     "name": "stdout",
     "output_type": "stream",
     "text": [
      "0    23\n",
      "1    35\n",
      "2    45\n",
      "3    36\n",
      "4    28\n",
      "Name: Age, dtype: int64\n"
     ]
    }
   ],
   "source": [
    "age_column = df.iloc[:, 1]  # Select all rows (:) and the second column (index 1)\n",
    "print(age_column)"
   ]
  },
  {
   "cell_type": "code",
   "execution_count": 4,
   "id": "47d26226",
   "metadata": {},
   "outputs": [
    {
     "name": "stdout",
     "output_type": "stream",
     "text": [
      "      Name  Age        City\n",
      "0    Alice   23    New York\n",
      "1      Bob   35  Los Angele\n",
      "2  Charlie   45     Chicago\n"
     ]
    }
   ],
   "source": [
    "first_3_rows = df.iloc[:3]  # Select all rows from starting index (inclusive) to 3rd index (exclusive)\n",
    "print(first_3_rows)"
   ]
  },
  {
   "cell_type": "code",
   "execution_count": 5,
   "id": "a23c65e0",
   "metadata": {},
   "outputs": [
    {
     "name": "stdout",
     "output_type": "stream",
     "text": [
      "      Name        City\n",
      "0    Alice    New York\n",
      "1      Bob  Los Angele\n",
      "2  Charlie     Chicago\n"
     ]
    }
   ],
   "source": [
    "first_3_rows_name_city = df.iloc[0:3, [0, 2]]  # Select rows 0 to 2 (exclusive) and columns 0 (Name) and 2 (City)\n",
    "print(first_3_rows_name_city)"
   ]
  },
  {
   "cell_type": "code",
   "execution_count": 6,
   "id": "02445b77",
   "metadata": {},
   "outputs": [
    {
     "name": "stdout",
     "output_type": "stream",
     "text": [
      "      Name  Age     City\n",
      "2  Charlie   45  Chicago\n"
     ]
    }
   ],
   "source": [
    "charlie_row = df.loc[df['Name'] == 'Charlie']\n",
    "print(charlie_row)"
   ]
  },
  {
   "cell_type": "code",
   "execution_count": 8,
   "id": "ede819fa",
   "metadata": {},
   "outputs": [
    {
     "name": "stdout",
     "output_type": "stream",
     "text": [
      "0    23\n",
      "1    35\n",
      "2    45\n",
      "3    36\n",
      "4    28\n",
      "Name: Age, dtype: int64\n"
     ]
    }
   ],
   "source": [
    "age_column = df.loc[:, 'Age']# select age column with loc.\n",
    "print(age_column)"
   ]
  },
  {
   "cell_type": "code",
   "execution_count": 11,
   "id": "d5b686d1",
   "metadata": {},
   "outputs": [
    {
     "name": "stdout",
     "output_type": "stream",
     "text": [
      "1    Los Angele\n",
      "4       Phoenix\n",
      "Name: City, dtype: object\n"
     ]
    }
   ],
   "source": [
    "bob_and_eva_cities = df.loc[[1, 4], 'City']# select city with bob and alice.\n",
    "print(bob_and_eva_cities)   "
   ]
  },
  {
   "cell_type": "code",
   "execution_count": 14,
   "id": "fee70150",
   "metadata": {},
   "outputs": [
    {
     "name": "stdout",
     "output_type": "stream",
     "text": [
      "1    35\n",
      "4    28\n",
      "Name: Age, dtype: int64\n"
     ]
    }
   ],
   "source": [
    "#bob_and_eva_cities = df.loc[(df['Name']=='Bob')|(df['Name']=='Bob'):,'Age']\n",
    "bob_and_eva_cities = df.loc[(df['Name'] == 'Bob') | (df['Name'] == 'Eva'), 'Age']\n",
    "print(bob_and_eva_cities)"
   ]
  },
  {
   "cell_type": "code",
   "execution_count": 20,
   "id": "21346e37",
   "metadata": {},
   "outputs": [
    {
     "name": "stdout",
     "output_type": "stream",
     "text": [
      "      Name  Age        City\n",
      "1      Bob   35  Los Angele\n",
      "2  Charlie   45     Chicago\n",
      "3    David   36     Houston\n"
     ]
    }
   ],
   "source": [
    "age_rows_more_then_30 = df.loc[df['Age'] > 30]\n",
    "print(age_rows_more_then_30)"
   ]
  },
  {
   "cell_type": "code",
   "execution_count": 23,
   "id": "30ab77d2",
   "metadata": {},
   "outputs": [
    {
     "name": "stdout",
     "output_type": "stream",
     "text": [
      "      Name  Age     City\n",
      "2  Charlie   45  Chicago\n",
      "3    David   36  Houston\n"
     ]
    }
   ],
   "source": [
    "# selecting the rows where city is chicago or houston\n",
    "\n",
    "city_chicago_houston = df.loc[(df['City'] == 'Chicago')|(df['City'] == 'Houston')]\n",
    "print(city_chicago_houston)\n",
    "                                                         "
   ]
  },
  {
   "cell_type": "code",
   "execution_count": 24,
   "id": "627df6f2",
   "metadata": {},
   "outputs": [
    {
     "name": "stdout",
     "output_type": "stream",
     "text": [
      "         Age        City\n",
      "Name                    \n",
      "Alice     23    New York\n",
      "Bob       35  Los Angele\n",
      "Charlie   45     Chicago\n",
      "David     36     Houston\n",
      "Eva       28     Phoenix\n"
     ]
    }
   ],
   "source": [
    "df_reindexed = df.set_index('Name')  # Set the 'Name' column as the index\n",
    "print(df_reindexed)"
   ]
  },
  {
   "cell_type": "code",
   "execution_count": 26,
   "id": "b8f05103",
   "metadata": {},
   "outputs": [
    {
     "name": "stdout",
     "output_type": "stream",
     "text": [
      "    Name  Age     City\n",
      "3  David   36  Houston\n"
     ]
    }
   ],
   "source": [
    "david = df.loc[df['Name']=='David']\n",
    "print(david)"
   ]
  },
  {
   "cell_type": "code",
   "execution_count": 33,
   "id": "d847a598",
   "metadata": {},
   "outputs": [
    {
     "name": "stdout",
     "output_type": "stream",
     "text": [
      "      Age        City\n",
      "Name                 \n",
      "Bob    35  Los Angele\n",
      "Eva    28     Phoenix\n"
     ]
    }
   ],
   "source": [
    "Age_and_city_for_bob_and_Eva = df_reindexed.loc[['Bob','Eva'],['Age', 'City']] # selecting age and city columns for Bob and Eva names.\n",
    "print(Age_and_city_for_bob_and_Eva)\n"
   ]
  },
  {
   "cell_type": "code",
   "execution_count": 1,
   "id": "894b4bb0",
   "metadata": {},
   "outputs": [
    {
     "name": "stdout",
     "output_type": "stream",
     "text": [
      "    Product  Price  In Stock\n",
      "0     Apple    0.5      True\n",
      "1    Banana    0.3      True\n",
      "2    Carrot    0.4     False\n",
      "3  Doughnut    1.0      True\n",
      "4       Egg    0.2     False\n"
     ]
    }
   ],
   "source": [
    "import pandas as pd\n",
    "data = {\n",
    "'Product': ['Apple', 'Banana', 'Carrot', 'Doughnut', 'Egg'],\n",
    "'Price': [0.5, 0.3, 0.4, 1.0, 0.2],\n",
    "'In Stock': [True, True, False, True, False]\n",
    "}\n",
    "df = pd.DataFrame(data)\n",
    "print(df)\n"
   ]
  },
  {
   "cell_type": "code",
   "execution_count": 43,
   "id": "09f581c3",
   "metadata": {},
   "outputs": [
    {
     "name": "stdout",
     "output_type": "stream",
     "text": [
      "    Product\n",
      "0     Apple\n",
      "1    Banana\n",
      "3  Doughnut\n"
     ]
    }
   ],
   "source": [
    "\n",
    "products_in_stock = df.loc[(df['In Stock'] == True), ['Product']]\n",
    "print(products_in_stock)\n"
   ]
  },
  {
   "cell_type": "code",
   "execution_count": 2,
   "id": "87f6a174",
   "metadata": {},
   "outputs": [
    {
     "name": "stdout",
     "output_type": "stream",
     "text": [
      "    Product  Price  In Stock\n",
      "0     Apple    0.5      True\n",
      "1    Banana    0.3      True\n",
      "2    Carrot    0.4     False\n",
      "3  Doughnut    1.0      True\n",
      "4       Egg    0.2     False\n"
     ]
    }
   ],
   "source": [
    "# Locate the row where the product is 'Doughnut'\n",
    "doughnut_row = df.loc[df['Product'] == 'Doughnut']\n",
    "\n",
    "# Update the 'Price' value in that row to 1.2\n",
    "doughnut_row.loc[:, 'Price'] = 1.2\n",
    "\n",
    "# Print the modified DataFrame\n",
    "print(df)\n"
   ]
  },
  {
   "cell_type": "code",
   "execution_count": 3,
   "id": "8d67ff2f",
   "metadata": {},
   "outputs": [
    {
     "name": "stdout",
     "output_type": "stream",
     "text": [
      "  Product  Price  In Stock\n",
      "1  Banana    0.3      True\n",
      "2  Carrot    0.4     False\n",
      "4     Egg    0.2     False\n"
     ]
    }
   ],
   "source": [
    "df = df.loc[df['Price'] < 0.5]\n",
    "print(df)"
   ]
  },
  {
   "cell_type": "code",
   "execution_count": 4,
   "id": "d918f5b4",
   "metadata": {},
   "outputs": [
    {
     "name": "stdout",
     "output_type": "stream",
     "text": [
      "  Product  Price\n",
      "2  Carrot    0.4\n",
      "4     Egg    0.2\n"
     ]
    }
   ],
   "source": [
    "products_and_price_not_in_stock = df.loc[(df['In Stock'] == False), ['Product','Price']]\n",
    "print(products_and_price_not_in_stock)"
   ]
  },
  {
   "cell_type": "code",
   "execution_count": null,
   "id": "17b7cbe6",
   "metadata": {},
   "outputs": [],
   "source": []
  }
 ],
 "metadata": {
  "kernelspec": {
   "display_name": "Python 3 (ipykernel)",
   "language": "python",
   "name": "python3"
  },
  "language_info": {
   "codemirror_mode": {
    "name": "ipython",
    "version": 3
   },
   "file_extension": ".py",
   "mimetype": "text/x-python",
   "name": "python",
   "nbconvert_exporter": "python",
   "pygments_lexer": "ipython3",
   "version": "3.11.5"
  }
 },
 "nbformat": 4,
 "nbformat_minor": 5
}
