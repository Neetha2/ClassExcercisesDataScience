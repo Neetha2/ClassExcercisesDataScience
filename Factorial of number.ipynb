{
 "cells": [
  {
   "cell_type": "code",
   "execution_count": 1,
   "id": "75652e74",
   "metadata": {},
   "outputs": [
    {
     "name": "stdout",
     "output_type": "stream",
     "text": [
      "The factorial of 5 is: 120\n"
     ]
    }
   ],
   "source": [
    "def factorial(n):\n",
    "    if n == 0 or n == 1:\n",
    "        return 1\n",
    "    else:\n",
    "        return n * factorial(n-1)\n",
    "\n",
    "# Call the function with a test value (e.g., factorial of 5)\n",
    "result = factorial(5)\n",
    "\n",
    "# Print the result\n",
    "print(f\"The factorial of 5 is: {result}\")\n"
   ]
  },
  {
   "cell_type": "markdown",
   "id": "aebfc305",
   "metadata": {},
   "source": [
    "Calculating the factorial of number\n"
   ]
  },
  {
   "cell_type": "code",
   "execution_count": null,
   "id": "d49cd8ba",
   "metadata": {},
   "outputs": [],
   "source": []
  }
 ],
 "metadata": {
  "kernelspec": {
   "display_name": "Python 3 (ipykernel)",
   "language": "python",
   "name": "python3"
  },
  "language_info": {
   "codemirror_mode": {
    "name": "ipython",
    "version": 3
   },
   "file_extension": ".py",
   "mimetype": "text/x-python",
   "name": "python",
   "nbconvert_exporter": "python",
   "pygments_lexer": "ipython3",
   "version": "3.11.5"
  }
 },
 "nbformat": 4,
 "nbformat_minor": 5
}
